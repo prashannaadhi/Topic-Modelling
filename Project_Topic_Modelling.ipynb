{
 "cells": [
  {
   "cell_type": "markdown",
   "metadata": {},
   "source": [
    "## Download nltk stopwords"
   ]
  },
  {
   "cell_type": "code",
   "execution_count": 2,
   "metadata": {},
   "outputs": [
    {
     "name": "stderr",
     "output_type": "stream",
     "text": [
      "[nltk_data] Downloading package stopwords to\n",
      "[nltk_data]     C:\\Users\\Prashanna\\AppData\\Roaming\\nltk_data...\n",
      "[nltk_data]   Package stopwords is already up-to-date!\n"
     ]
    },
    {
     "data": {
      "text/plain": [
       "True"
      ]
     },
     "execution_count": 2,
     "metadata": {},
     "output_type": "execute_result"
    }
   ],
   "source": [
    "import nltk\n",
    "nltk.download('stopwords')"
   ]
  },
  {
   "cell_type": "markdown",
   "metadata": {},
   "source": [
    "## Import Packages"
   ]
  },
  {
   "cell_type": "code",
   "execution_count": 3,
   "metadata": {},
   "outputs": [],
   "source": [
    "import re\n",
    "import numpy as np\n",
    "import pandas as pd\n",
    "from pprint import pprint"
   ]
  },
  {
   "cell_type": "code",
   "execution_count": 4,
   "metadata": {},
   "outputs": [],
   "source": [
    "#Gensim\n",
    "import gensim\n",
    "import gensim.corpora as corpora\n",
    "from gensim.utils import simple_preprocess\n",
    "from gensim.models import CoherenceModel"
   ]
  },
  {
   "cell_type": "code",
   "execution_count": 5,
   "metadata": {},
   "outputs": [],
   "source": [
    "#spacy for lemmatization\n",
    "import spacy"
   ]
  },
  {
   "cell_type": "code",
   "execution_count": 6,
   "metadata": {},
   "outputs": [
    {
     "name": "stderr",
     "output_type": "stream",
     "text": [
      "C:\\Users\\Prashanna\\Anaconda3\\lib\\site-packages\\past\\builtins\\misc.py:4: DeprecationWarning: Using or importing the ABCs from 'collections' instead of from 'collections.abc' is deprecated, and in 3.8 it will stop working\n",
      "  from collections import Mapping\n"
     ]
    }
   ],
   "source": [
    "#Plotting tools\n",
    "import pyLDAvis\n",
    "import pyLDAvis.gensim \n",
    "import matplotlib.pyplot as plt\n",
    "%matplotlib inline"
   ]
  },
  {
   "cell_type": "code",
   "execution_count": 7,
   "metadata": {},
   "outputs": [],
   "source": [
    "import logging\n",
    "logging.basicConfig(format='%(asctime)s : %(levelname)s : %(message)s', level=logging.ERROR)\n",
    "\n",
    "import warnings\n",
    "warnings.filterwarnings(\"ignore\", category = DeprecationWarning)"
   ]
  },
  {
   "cell_type": "markdown",
   "metadata": {},
   "source": [
    "## Prepare Stopwords"
   ]
  },
  {
   "cell_type": "code",
   "execution_count": 8,
   "metadata": {},
   "outputs": [],
   "source": [
    "#NLTK Stop words\n",
    "from nltk.corpus import stopwords\n",
    "stop_words = stopwords.words('english')\n",
    "stop_words.extend(['from','subject','re','edu','use'])"
   ]
  },
  {
   "cell_type": "markdown",
   "metadata": {},
   "source": [
    "## Import Newsgroups Data"
   ]
  },
  {
   "cell_type": "code",
   "execution_count": 9,
   "metadata": {},
   "outputs": [
    {
     "name": "stdout",
     "output_type": "stream",
     "text": [
      "['rec.autos' 'comp.sys.mac.hardware' 'comp.graphics' 'sci.space'\n",
      " 'talk.politics.guns' 'sci.med' 'comp.sys.ibm.pc.hardware'\n",
      " 'comp.os.ms-windows.misc' 'rec.motorcycles' 'talk.religion.misc'\n",
      " 'misc.forsale' 'alt.atheism' 'sci.electronics' 'comp.windows.x'\n",
      " 'rec.sport.hockey' 'rec.sport.baseball' 'soc.religion.christian'\n",
      " 'talk.politics.mideast' 'talk.politics.misc' 'sci.crypt']\n"
     ]
    },
    {
     "data": {
      "text/html": [
       "<div>\n",
       "<style scoped>\n",
       "    .dataframe tbody tr th:only-of-type {\n",
       "        vertical-align: middle;\n",
       "    }\n",
       "\n",
       "    .dataframe tbody tr th {\n",
       "        vertical-align: top;\n",
       "    }\n",
       "\n",
       "    .dataframe thead th {\n",
       "        text-align: right;\n",
       "    }\n",
       "</style>\n",
       "<table border=\"1\" class=\"dataframe\">\n",
       "  <thead>\n",
       "    <tr style=\"text-align: right;\">\n",
       "      <th></th>\n",
       "      <th>content</th>\n",
       "      <th>target</th>\n",
       "      <th>target_names</th>\n",
       "    </tr>\n",
       "  </thead>\n",
       "  <tbody>\n",
       "    <tr>\n",
       "      <td>0</td>\n",
       "      <td>From: lerxst@wam.umd.edu (where's my thing)\\nS...</td>\n",
       "      <td>7</td>\n",
       "      <td>rec.autos</td>\n",
       "    </tr>\n",
       "    <tr>\n",
       "      <td>1</td>\n",
       "      <td>From: guykuo@carson.u.washington.edu (Guy Kuo)...</td>\n",
       "      <td>4</td>\n",
       "      <td>comp.sys.mac.hardware</td>\n",
       "    </tr>\n",
       "    <tr>\n",
       "      <td>2</td>\n",
       "      <td>From: twillis@ec.ecn.purdue.edu (Thomas E Will...</td>\n",
       "      <td>4</td>\n",
       "      <td>comp.sys.mac.hardware</td>\n",
       "    </tr>\n",
       "    <tr>\n",
       "      <td>3</td>\n",
       "      <td>From: jgreen@amber (Joe Green)\\nSubject: Re: W...</td>\n",
       "      <td>1</td>\n",
       "      <td>comp.graphics</td>\n",
       "    </tr>\n",
       "    <tr>\n",
       "      <td>4</td>\n",
       "      <td>From: jcm@head-cfa.harvard.edu (Jonathan McDow...</td>\n",
       "      <td>14</td>\n",
       "      <td>sci.space</td>\n",
       "    </tr>\n",
       "  </tbody>\n",
       "</table>\n",
       "</div>"
      ],
      "text/plain": [
       "                                             content  target  \\\n",
       "0  From: lerxst@wam.umd.edu (where's my thing)\\nS...       7   \n",
       "1  From: guykuo@carson.u.washington.edu (Guy Kuo)...       4   \n",
       "2  From: twillis@ec.ecn.purdue.edu (Thomas E Will...       4   \n",
       "3  From: jgreen@amber (Joe Green)\\nSubject: Re: W...       1   \n",
       "4  From: jcm@head-cfa.harvard.edu (Jonathan McDow...      14   \n",
       "\n",
       "            target_names  \n",
       "0              rec.autos  \n",
       "1  comp.sys.mac.hardware  \n",
       "2  comp.sys.mac.hardware  \n",
       "3          comp.graphics  \n",
       "4              sci.space  "
      ]
     },
     "execution_count": 9,
     "metadata": {},
     "output_type": "execute_result"
    }
   ],
   "source": [
    "#Import Dataset\n",
    "df = pd.read_json('https://raw.githubusercontent.com/selva86/datasets/master/newsgroups.json')\n",
    "print(df.target_names.unique())\n",
    "df.head()"
   ]
  },
  {
   "cell_type": "markdown",
   "metadata": {},
   "source": [
    "## Remove emails and newline characters"
   ]
  },
  {
   "cell_type": "code",
   "execution_count": 10,
   "metadata": {},
   "outputs": [],
   "source": [
    "#Covert to list\n",
    "data = df.content.values.tolist()"
   ]
  },
  {
   "cell_type": "code",
   "execution_count": 11,
   "metadata": {},
   "outputs": [],
   "source": [
    "#Remove Emails\n",
    "data = [re.sub('\\S*@\\S*\\s?','',sent) for sent in  data]"
   ]
  },
  {
   "cell_type": "code",
   "execution_count": 12,
   "metadata": {},
   "outputs": [],
   "source": [
    "#Remove new line characters\n",
    "data = [re.sub('\\s+',' ',sent) for sent in data]"
   ]
  },
  {
   "cell_type": "code",
   "execution_count": 13,
   "metadata": {},
   "outputs": [],
   "source": [
    "#Remove distracting single quotes\n",
    "data = [re.sub(\"\\'\",\"\",sent) for sent in  data]"
   ]
  },
  {
   "cell_type": "code",
   "execution_count": 14,
   "metadata": {},
   "outputs": [
    {
     "name": "stdout",
     "output_type": "stream",
     "text": [
      "['From: (wheres my thing) Subject: WHAT car is this!? Nntp-Posting-Host: '\n",
      " 'rac3.wam.umd.edu Organization: University of Maryland, College Park Lines: '\n",
      " '15 I was wondering if anyone out there could enlighten me on this car I saw '\n",
      " 'the other day. It was a 2-door sports car, looked to be from the late 60s/ '\n",
      " 'early 70s. It was called a Bricklin. The doors were really small. In '\n",
      " 'addition, the front bumper was separate from the rest of the body. This is '\n",
      " 'all I know. If anyone can tellme a model name, engine specs, years of '\n",
      " 'production, where this car is made, history, or whatever info you have on '\n",
      " 'this funky looking car, please e-mail. Thanks, - IL ---- brought to you by '\n",
      " 'your neighborhood Lerxst ---- ']\n"
     ]
    }
   ],
   "source": [
    "pprint(data[:1])"
   ]
  },
  {
   "cell_type": "markdown",
   "metadata": {},
   "source": [
    "## Tokenize words and Clean-up text"
   ]
  },
  {
   "cell_type": "code",
   "execution_count": 15,
   "metadata": {},
   "outputs": [
    {
     "name": "stdout",
     "output_type": "stream",
     "text": [
      "[['from', 'wheres', 'my', 'thing', 'subject', 'what', 'car', 'is', 'this', 'nntp', 'posting', 'host', 'rac', 'wam', 'umd', 'edu', 'organization', 'university', 'of', 'maryland', 'college', 'park', 'lines', 'was', 'wondering', 'if', 'anyone', 'out', 'there', 'could', 'enlighten', 'me', 'on', 'this', 'car', 'saw', 'the', 'other', 'day', 'it', 'was', 'door', 'sports', 'car', 'looked', 'to', 'be', 'from', 'the', 'late', 'early', 'it', 'was', 'called', 'bricklin', 'the', 'doors', 'were', 'really', 'small', 'in', 'addition', 'the', 'front', 'bumper', 'was', 'separate', 'from', 'the', 'rest', 'of', 'the', 'body', 'this', 'is', 'all', 'know', 'if', 'anyone', 'can', 'tellme', 'model', 'name', 'engine', 'specs', 'years', 'of', 'production', 'where', 'this', 'car', 'is', 'made', 'history', 'or', 'whatever', 'info', 'you', 'have', 'on', 'this', 'funky', 'looking', 'car', 'please', 'mail', 'thanks', 'il', 'brought', 'to', 'you', 'by', 'your', 'neighborhood', 'lerxst']]\n"
     ]
    }
   ],
   "source": [
    "def sent_to_words(sentences):\n",
    "    for sentence in sentences:\n",
    "        yield(gensim.utils.simple_preprocess(str(sentence), deacc = True))\n",
    "data_words = list(sent_to_words(data))\n",
    "print(data_words[:1])"
   ]
  },
  {
   "cell_type": "markdown",
   "metadata": {},
   "source": [
    "## Creating Bigram and Trigram Models"
   ]
  },
  {
   "cell_type": "code",
   "execution_count": 16,
   "metadata": {},
   "outputs": [],
   "source": [
    "#Build the bigram and trigram models\n",
    "bigram = gensim.models.Phrases(data_words, min_count = 5, threshold = 100)\n",
    "trigram = gensim.models.Phrases(bigram[data_words], threshold = 100)"
   ]
  },
  {
   "cell_type": "code",
   "execution_count": 17,
   "metadata": {},
   "outputs": [],
   "source": [
    "# Faster way to get a sentence clubbed as a trigram/bigram\n",
    "bigram_mod = gensim.models.phrases.Phraser(bigram)\n",
    "trigram_mod = gensim.models.phrases.Phraser(trigram)"
   ]
  },
  {
   "cell_type": "code",
   "execution_count": 18,
   "metadata": {},
   "outputs": [
    {
     "name": "stdout",
     "output_type": "stream",
     "text": [
      "['from', 'wheres', 'my', 'thing', 'subject', 'what', 'car', 'is', 'this', 'nntp_posting_host', 'rac_wam_umd_edu', 'organization', 'university', 'of', 'maryland_college_park', 'lines', 'was', 'wondering', 'if', 'anyone', 'out', 'there', 'could', 'enlighten', 'me', 'on', 'this', 'car', 'saw', 'the', 'other', 'day', 'it', 'was', 'door', 'sports', 'car', 'looked', 'to', 'be', 'from', 'the', 'late', 'early', 'it', 'was', 'called', 'bricklin', 'the', 'doors', 'were', 'really', 'small', 'in', 'addition', 'the', 'front_bumper', 'was', 'separate', 'from', 'the', 'rest', 'of', 'the', 'body', 'this', 'is', 'all', 'know', 'if', 'anyone', 'can', 'tellme', 'model', 'name', 'engine', 'specs', 'years', 'of', 'production', 'where', 'this', 'car', 'is', 'made', 'history', 'or', 'whatever', 'info', 'you', 'have', 'on', 'this', 'funky', 'looking', 'car', 'please', 'mail', 'thanks', 'il', 'brought', 'to', 'you', 'by', 'your', 'neighborhood', 'lerxst']\n"
     ]
    }
   ],
   "source": [
    "#See trigram example\n",
    "print(trigram_mod[bigram_mod[data_words[0]]])"
   ]
  },
  {
   "cell_type": "markdown",
   "metadata": {},
   "source": [
    "## Remove Stopwords, Make Bigrams and Lemmatize"
   ]
  },
  {
   "cell_type": "code",
   "execution_count": 19,
   "metadata": {},
   "outputs": [],
   "source": [
    "#Define functions for stopwords, bigrams, trigrams and lemmitization\n",
    "def remove_stopwords(texts):\n",
    "    return [[word for word in simple_preprocess(str(doc)) if word not in stop_words] for doc in texts]\n",
    "def make_bigrams(texts):\n",
    "    return [bigram_mod[doc] for doc in texts]\n",
    "def make_trigrams(texts):\n",
    "    return [trigram_mod[bigram_mod[doc]] for doc in texts]\n",
    "def lemmatization(texts, allowed_postags=['NOUN', 'ADJ', 'VERB', 'ADV']):\n",
    "    texts_out = []\n",
    "    for sent in texts:\n",
    "        doc = nlp(\" \".join(sent))\n",
    "        texts_out.append([token.lemma_ for token in doc if token.pos_ in allowed_postags])\n",
    "    return texts_out"
   ]
  },
  {
   "cell_type": "code",
   "execution_count": 20,
   "metadata": {},
   "outputs": [],
   "source": [
    "#Remove Stop Words\n",
    "data_words_nostops = remove_stopwords(data_words)"
   ]
  },
  {
   "cell_type": "code",
   "execution_count": 21,
   "metadata": {},
   "outputs": [],
   "source": [
    "#Form Bigrams\n",
    "data_words_bigrams = make_bigrams(data_words_nostops)"
   ]
  },
  {
   "cell_type": "code",
   "execution_count": 22,
   "metadata": {},
   "outputs": [],
   "source": [
    "#Initialize spacy 'en' model, keeping only tagger component (for efficiency)\n",
    "nlp = spacy.load('en_core_web_sm',disable = ['parser', 'ner'])"
   ]
  },
  {
   "cell_type": "code",
   "execution_count": 23,
   "metadata": {},
   "outputs": [
    {
     "name": "stdout",
     "output_type": "stream",
     "text": [
      "[['where', 'thing', 'car', 'nntp_poste', 'host', 'park', 'line', 'wonder', 'could', 'enlighten', 'car', 'see', 'day', 'door', 'sport', 'car', 'look', 'late', 'early', 'call', 'door', 'really', 'small', 'addition', 'separate', 'rest', 'body', 'know', 'model', 'name', 'engine', 'spec', 'year', 'production', 'car', 'make', 'history', 'info', 'funky', 'look', 'car', 'mail', 'thank', 'bring', 'neighborhood', 'lerxst']]\n"
     ]
    }
   ],
   "source": [
    "#Do lemmatization keeping only noun, adj, vb, adv\n",
    "data_lemmatized = lemmatization(data_words_bigrams, allowed_postags = ['NOUN', 'ADJ', 'VERB', 'ADV'])\n",
    "print(data_lemmatized[:1])"
   ]
  },
  {
   "cell_type": "markdown",
   "metadata": {},
   "source": [
    "## Create the Dictionary and Corpus needed for Topic Modeling"
   ]
  },
  {
   "cell_type": "code",
   "execution_count": 24,
   "metadata": {},
   "outputs": [],
   "source": [
    "#Create Dictionary\n",
    "id2word = corpora.Dictionary(data_lemmatized)"
   ]
  },
  {
   "cell_type": "code",
   "execution_count": 25,
   "metadata": {},
   "outputs": [],
   "source": [
    "#Create Corpus\n",
    "texts = data_lemmatized"
   ]
  },
  {
   "cell_type": "code",
   "execution_count": 26,
   "metadata": {},
   "outputs": [],
   "source": [
    "#Term Document Frequency\n",
    "corpus = [id2word.doc2bow(text) for text in texts]"
   ]
  },
  {
   "cell_type": "code",
   "execution_count": 27,
   "metadata": {},
   "outputs": [
    {
     "name": "stdout",
     "output_type": "stream",
     "text": [
      "[[(0, 1), (1, 1), (2, 1), (3, 1), (4, 5), (5, 1), (6, 1), (7, 2), (8, 1), (9, 1), (10, 1), (11, 1), (12, 1), (13, 1), (14, 1), (15, 1), (16, 1), (17, 1), (18, 1), (19, 2), (20, 1), (21, 1), (22, 1), (23, 1), (24, 1), (25, 1), (26, 1), (27, 1), (28, 1), (29, 1), (30, 1), (31, 1), (32, 1), (33, 1), (34, 1), (35, 1), (36, 1), (37, 1), (38, 1), (39, 1)]]\n"
     ]
    }
   ],
   "source": [
    "#View\n",
    "print(corpus[:1])"
   ]
  },
  {
   "cell_type": "code",
   "execution_count": 28,
   "metadata": {},
   "outputs": [
    {
     "data": {
      "text/plain": [
       "'addition'"
      ]
     },
     "execution_count": 28,
     "metadata": {},
     "output_type": "execute_result"
    }
   ],
   "source": [
    "id2word[0]"
   ]
  },
  {
   "cell_type": "code",
   "execution_count": 29,
   "metadata": {},
   "outputs": [
    {
     "data": {
      "text/plain": [
       "[[('addition', 1),\n",
       "  ('body', 1),\n",
       "  ('bring', 1),\n",
       "  ('call', 1),\n",
       "  ('car', 5),\n",
       "  ('could', 1),\n",
       "  ('day', 1),\n",
       "  ('door', 2),\n",
       "  ('early', 1),\n",
       "  ('engine', 1),\n",
       "  ('enlighten', 1),\n",
       "  ('funky', 1),\n",
       "  ('history', 1),\n",
       "  ('host', 1),\n",
       "  ('info', 1),\n",
       "  ('know', 1),\n",
       "  ('late', 1),\n",
       "  ('lerxst', 1),\n",
       "  ('line', 1),\n",
       "  ('look', 2),\n",
       "  ('mail', 1),\n",
       "  ('make', 1),\n",
       "  ('model', 1),\n",
       "  ('name', 1),\n",
       "  ('neighborhood', 1),\n",
       "  ('nntp_poste', 1),\n",
       "  ('park', 1),\n",
       "  ('production', 1),\n",
       "  ('really', 1),\n",
       "  ('rest', 1),\n",
       "  ('see', 1),\n",
       "  ('separate', 1),\n",
       "  ('small', 1),\n",
       "  ('spec', 1),\n",
       "  ('sport', 1),\n",
       "  ('thank', 1),\n",
       "  ('thing', 1),\n",
       "  ('where', 1),\n",
       "  ('wonder', 1),\n",
       "  ('year', 1)]]"
      ]
     },
     "execution_count": 29,
     "metadata": {},
     "output_type": "execute_result"
    }
   ],
   "source": [
    "#Human readable format of corpus (term-frequency)\n",
    "[[(id2word[id],freq) for id,freq in cp] for cp in corpus[:1]]"
   ]
  },
  {
   "cell_type": "markdown",
   "metadata": {},
   "source": [
    "## Building the Topic Model"
   ]
  },
  {
   "cell_type": "code",
   "execution_count": 30,
   "metadata": {},
   "outputs": [],
   "source": [
    "#Build LDA model\n",
    "lda_model = gensim.models.ldamodel.LdaModel(corpus = corpus,\n",
    "                                           id2word = id2word,\n",
    "                                           num_topics = 20,\n",
    "                                           random_state = 100,\n",
    "                                           update_every = 1,\n",
    "                                           chunksize = 100,\n",
    "                                           passes = 10,\n",
    "                                           alpha = 'auto',\n",
    "                                           per_word_topics = True)"
   ]
  },
  {
   "cell_type": "markdown",
   "metadata": {},
   "source": [
    "## View the topics in LDA model"
   ]
  },
  {
   "cell_type": "code",
   "execution_count": 31,
   "metadata": {},
   "outputs": [
    {
     "name": "stdout",
     "output_type": "stream",
     "text": [
      "[(0,\n",
      "  '0.175*\"file\" + 0.073*\"entry\" + 0.057*\"error\" + 0.053*\"display\" + '\n",
      "  '0.040*\"program\" + 0.030*\"sun\" + 0.025*\"version\" + 0.024*\"cool\" + '\n",
      "  '0.020*\"output\" + 0.020*\"crash\"'),\n",
      " (1,\n",
      "  '0.032*\"would\" + 0.026*\"say\" + 0.022*\"think\" + 0.022*\"people\" + 0.020*\"go\" + '\n",
      "  '0.018*\"know\" + 0.016*\"make\" + 0.016*\"see\" + 0.014*\"come\" + 0.013*\"thing\"'),\n",
      " (2,\n",
      "  '0.091*\"evidence\" + 0.048*\"book\" + 0.041*\"faith\" + 0.037*\"reason\" + '\n",
      "  '0.033*\"exist\" + 0.032*\"claim\" + 0.031*\"religion\" + 0.029*\"believe\" + '\n",
      "  '0.027*\"christian\" + 0.023*\"church\"'),\n",
      " (3,\n",
      "  '0.541*\"ax\" + 0.054*\"car\" + 0.028*\"player\" + 0.014*\"engine\" + 0.009*\"dealer\" '\n",
      "  '+ 0.009*\"mile\" + 0.009*\"expensive\" + 0.009*\"here\" + 0.008*\"extra\" + '\n",
      "  '0.008*\"specify\"'),\n",
      " (4,\n",
      "  '0.087*\"belief\" + 0.084*\"internet\" + 0.079*\"atheist\" + 0.061*\"distribution\" '\n",
      "  '+ 0.053*\"wing\" + 0.041*\"atheism\" + 0.038*\"printer\" + 0.034*\"interface\" + '\n",
      "  '0.026*\"multiple\" + 0.020*\"thinking\"'),\n",
      " (5,\n",
      "  '0.088*\"normal\" + 0.072*\"port\" + 0.071*\"mouse\" + 0.053*\"hole\" + 0.036*\"cap\" '\n",
      "  '+ 0.034*\"expansion\" + 0.033*\"default\" + 0.026*\"compute\" + 0.026*\"noise\" + '\n",
      "  '0.013*\"characteristic\"'),\n",
      " (6,\n",
      "  '0.034*\"include\" + 0.023*\"provide\" + 0.023*\"report\" + 0.021*\"receive\" + '\n",
      "  '0.021*\"follow\" + 0.021*\"name\" + 0.018*\"build\" + 0.017*\"return\" + '\n",
      "  '0.015*\"open\" + 0.014*\"suggest\"'),\n",
      " (7,\n",
      "  '0.123*\"chip\" + 0.074*\"bit\" + 0.072*\"speed\" + 0.060*\"device\" + 0.058*\"tape\" '\n",
      "  '+ 0.052*\"slow\" + 0.040*\"bus\" + 0.038*\"scsi\" + 0.037*\"direct\" + '\n",
      "  '0.036*\"mode\"'),\n",
      " (8,\n",
      "  '0.152*\"team\" + 0.103*\"play\" + 0.059*\"year\" + 0.053*\"season\" + 0.045*\"fan\" + '\n",
      "  '0.036*\"trade\" + 0.026*\"pen\" + 0.023*\"lose\" + 0.021*\"last\" + 0.016*\"next\"'),\n",
      " (9,\n",
      "  '0.021*\"year\" + 0.016*\"also\" + 0.014*\"may\" + 0.014*\"first\" + 0.011*\"work\" + '\n",
      "  '0.010*\"high\" + 0.010*\"talk\" + 0.009*\"make\" + 0.009*\"case\" + 0.009*\"power\"'),\n",
      " (10,\n",
      "  '0.052*\"system\" + 0.050*\"drive\" + 0.041*\"use\" + 0.038*\"run\" + '\n",
      "  '0.034*\"problem\" + 0.028*\"window\" + 0.027*\"card\" + 0.024*\"program\" + '\n",
      "  '0.021*\"driver\" + 0.021*\"software\"'),\n",
      " (11,\n",
      "  '0.085*\"space\" + 0.053*\"science\" + 0.024*\"scientific\" + 0.024*\"review\" + '\n",
      "  '0.023*\"orbit\" + 0.023*\"launch\" + 0.022*\"earth\" + 0.021*\"mission\" + '\n",
      "  '0.020*\"development\" + 0.019*\"vehicle\"'),\n",
      " (12,\n",
      "  '0.140*\"game\" + 0.116*\"gun\" + 0.070*\"win\" + 0.048*\"fire\" + 0.047*\"hit\" + '\n",
      "  '0.036*\"weapon\" + 0.035*\"shoot\" + 0.024*\"cop\" + 0.019*\"run\" + 0.017*\"carry\"'),\n",
      " (13,\n",
      "  '0.124*\"god\" + 0.110*\"patient\" + 0.054*\"license\" + 0.050*\"univ\" + '\n",
      "  '0.048*\"treatment\" + 0.042*\"disease\" + 0.035*\"medical\" + 0.033*\"health\" + '\n",
      "  '0.027*\"ticket\" + 0.020*\"deliver\"'),\n",
      " (14,\n",
      "  '0.040*\"kill\" + 0.030*\"israeli\" + 0.028*\"war\" + 0.027*\"soldier\" + '\n",
      "  '0.024*\"attack\" + 0.024*\"village\" + 0.023*\"child\" + 0.021*\"murder\" + '\n",
      "  '0.016*\"turkish\" + 0.016*\"force\"'),\n",
      " (15,\n",
      "  '0.098*\"goal\" + 0.077*\"moral\" + 0.059*\"animal\" + 0.046*\"link\" + '\n",
      "  '0.034*\"morality\" + 0.029*\"warrant\" + 0.028*\"scale\" + 0.027*\"relationship\" + '\n",
      "  '0.026*\"depth\" + 0.024*\"percentage\"'),\n",
      " (16,\n",
      "  '0.049*\"image\" + 0.046*\"color\" + 0.040*\"code\" + 0.038*\"source\" + 0.038*\"com\" '\n",
      "  '+ 0.031*\"available\" + 0.030*\"server\" + 0.028*\"format\" + 0.026*\"function\" + '\n",
      "  '0.024*\"information\"'),\n",
      " (17,\n",
      "  '0.111*\"motif\" + 0.067*\"session\" + 0.048*\"unknown\" + 0.028*\"moslem\" + '\n",
      "  '0.021*\"ruin\" + 0.020*\"testing\" + 0.019*\"ratio\" + 0.017*\"okay\" + '\n",
      "  '0.005*\"verification\" + 0.005*\"automate\"'),\n",
      " (18,\n",
      "  '0.074*\"line\" + 0.047*\"write\" + 0.030*\"article\" + 0.024*\"host\" + '\n",
      "  '0.022*\"nntp_poste\" + 0.022*\"organization\" + 0.021*\"get\" + 0.019*\"be\" + '\n",
      "  '0.016*\"need\" + 0.014*\"thank\"'),\n",
      " (19,\n",
      "  '0.030*\"key\" + 0.027*\"state\" + 0.021*\"law\" + 0.020*\"government\" + '\n",
      "  '0.018*\"issue\" + 0.017*\"public\" + 0.014*\"right\" + 0.013*\"use\" + '\n",
      "  '0.011*\"system\" + 0.010*\"case\"')]\n"
     ]
    }
   ],
   "source": [
    "#Print the Keyword in the 10 topics\n",
    "pprint(lda_model.print_topics())\n",
    "doc_lda = lda_model[corpus]"
   ]
  },
  {
   "cell_type": "markdown",
   "metadata": {},
   "source": [
    "## Compute Model Perplexity and Coherence Score"
   ]
  },
  {
   "cell_type": "code",
   "execution_count": 32,
   "metadata": {},
   "outputs": [
    {
     "name": "stdout",
     "output_type": "stream",
     "text": [
      "\n",
      "Perplexity:  -12.486503603840534\n",
      "\n",
      "Coherence Score:  0.49288861569721343\n"
     ]
    }
   ],
   "source": [
    "#Compute Perplexity, the measure of how good the model is. lower the better.\n",
    "print('\\nPerplexity: ', lda_model.log_perplexity(corpus))\n",
    "\n",
    "#Compute Coherence Score\n",
    "coherence_model_lda = CoherenceModel(model = lda_model, texts=data_lemmatized, dictionary=id2word, coherence='c_v')\n",
    "coherence_lda = coherence_model_lda.get_coherence()\n",
    "print('\\nCoherence Score: ', coherence_lda)"
   ]
  },
  {
   "cell_type": "markdown",
   "metadata": {},
   "source": [
    "## Visualize the topics-keywords"
   ]
  },
  {
   "cell_type": "code",
   "execution_count": null,
   "metadata": {},
   "outputs": [],
   "source": [
    "'''\n",
    "# Visualize the topics\n",
    "pyLDAvis.enable_notebook()\n",
    "vis = pyLDAvis.gensim.prepare(lda_model, corpus, id2word)\n",
    "vis\n",
    "'''"
   ]
  },
  {
   "cell_type": "markdown",
   "metadata": {},
   "source": [
    "## Building LDA Mallet Model"
   ]
  },
  {
   "cell_type": "code",
   "execution_count": 39,
   "metadata": {},
   "outputs": [],
   "source": [
    "mallet_path = 'C:/mallet-2.0.8/bin/mallet' # update this path\n",
    "ldamallet = gensim.models.wrappers.LdaMallet(mallet_path, corpus=corpus, num_topics=20, id2word=id2word)"
   ]
  },
  {
   "cell_type": "code",
   "execution_count": 40,
   "metadata": {},
   "outputs": [
    {
     "name": "stdout",
     "output_type": "stream",
     "text": [
      "[(8,\n",
      "  [('write', 0.08888618677042802),\n",
      "   ('article', 0.05632295719844358),\n",
      "   ('post', 0.0418044747081712),\n",
      "   ('line', 0.03769455252918288),\n",
      "   ('question', 0.026215953307392997),\n",
      "   ('read', 0.025729571984435796),\n",
      "   ('make', 0.020257782101167316),\n",
      "   ('group', 0.018166342412451363),\n",
      "   ('opinion', 0.017096303501945527),\n",
      "   ('people', 0.013861867704280155)]),\n",
      " (11,\n",
      "  [('space', 0.022694477239931784),\n",
      "   ('system', 0.011347238619965892),\n",
      "   ('launch', 0.008220735493462767),\n",
      "   ('design', 0.00795837159473523),\n",
      "   ('large', 0.007389916480825572),\n",
      "   ('high', 0.007236870873234509),\n",
      "   ('project', 0.007040097949188858),\n",
      "   ('base', 0.0064497791770519045),\n",
      "   ('time', 0.006406051860597315),\n",
      "   ('technology', 0.006362324544142726)]),\n",
      " (4,\n",
      "  [('gun', 0.03021239806528495),\n",
      "   ('people', 0.01628618828422553),\n",
      "   ('kill', 0.012921466457929295),\n",
      "   ('fire', 0.01247751010584854),\n",
      "   ('crime', 0.012103652125148958),\n",
      "   ('weapon', 0.010935345935462765),\n",
      "   ('drug', 0.009089422155758581),\n",
      "   ('article', 0.008715564175058999),\n",
      "   ('make', 0.008715564175058999),\n",
      "   ('firearm', 0.00841180456574059)]),\n",
      " (7,\n",
      "  [('ax', 0.9598408529653875),\n",
      "   ('db_db', 0.005095841009760496),\n",
      "   ('tq', 0.001273960252440124),\n",
      "   ('bh', 0.0007251773744659166),\n",
      "   ('mh', 0.0005291834894751284),\n",
      "   ('tg', 0.0005291834894751284),\n",
      "   ('wwiz', 0.0004899847124769707),\n",
      "   ('mb', 0.0004703853239778919),\n",
      "   ('ei_ei', 0.00045078593547881305),\n",
      "   ('part', 0.0003919877699815766)]),\n",
      " (13,\n",
      "  [('law', 0.029859695407123157),\n",
      "   ('state', 0.02388375904385018),\n",
      "   ('people', 0.021125634568493423),\n",
      "   ('government', 0.01758804013270976),\n",
      "   ('case', 0.012831274733181436),\n",
      "   ('issue', 0.00979334052844066),\n",
      "   ('person', 0.00979334052844066),\n",
      "   ('free', 0.008114482152136547),\n",
      "   ('make', 0.007494903465643362),\n",
      "   ('public', 0.00723508014550106)]),\n",
      " (0,\n",
      "  [('file', 0.04121450011544678),\n",
      "   ('window', 0.030227814977295465),\n",
      "   ('program', 0.020857384745632264),\n",
      "   ('line', 0.013449549757561763),\n",
      "   ('set', 0.01329562071884861),\n",
      "   ('application', 0.010294004463942123),\n",
      "   ('display', 0.009620564919572078),\n",
      "   ('error', 0.009620564919572078),\n",
      "   ('entry', 0.00921650119295005),\n",
      "   ('follow', 0.008908643115523744)]),\n",
      " (15,\n",
      "  [('car', 0.040447980004325985),\n",
      "   ('buy', 0.021726068879328993),\n",
      "   ('price', 0.020043740536903075),\n",
      "   ('sell', 0.01845754524261578),\n",
      "   ('sale', 0.01703958278257108),\n",
      "   ('bike', 0.013050061284818188),\n",
      "   ('line', 0.011463865990530895),\n",
      "   ('ride', 0.011055300535941743),\n",
      "   ('engine', 0.008916340214857363),\n",
      "   ('drive', 0.008531808022302868)]),\n",
      " (12,\n",
      "  [('drive', 0.034148936170212765),\n",
      "   ('card', 0.026404255319148934),\n",
      "   ('system', 0.023170212765957446),\n",
      "   ('driver', 0.01770212765957447),\n",
      "   ('bit', 0.017595744680851063),\n",
      "   ('problem', 0.016914893617021278),\n",
      "   ('work', 0.015468085106382978),\n",
      "   ('fast', 0.013957446808510639),\n",
      "   ('run', 0.013936170212765957),\n",
      "   ('disk', 0.013340425531914894)]),\n",
      " (19,\n",
      "  [('power', 0.016333147821037095),\n",
      "   ('line', 0.013574660633484163),\n",
      "   ('light', 0.011203329542429889),\n",
      "   ('work', 0.010816173445931231),\n",
      "   ('current', 0.00989667771674692),\n",
      "   ('ground', 0.009557916132310596),\n",
      "   ('wire', 0.008904590219469112),\n",
      "   ('high', 0.008735209427250949),\n",
      "   ('water', 0.007864108210128971),\n",
      "   ('low', 0.006726837176664166)]),\n",
      " (5,\n",
      "  [('true', 0.015221432839784875),\n",
      "   ('exist', 0.012997144943894827),\n",
      "   ('people', 0.011768806852134652),\n",
      "   ('religion', 0.011602815218113008),\n",
      "   ('question', 0.011038443662439413),\n",
      "   ('reason', 0.010274882145939844),\n",
      "   ('claim', 0.010241683819135516),\n",
      "   ('evidence', 0.009859903060885732),\n",
      "   ('argument', 0.009644113936657593),\n",
      "   ('faith', 0.009029944890777505)])]\n"
     ]
    }
   ],
   "source": [
    "# SHow Topics\n",
    "pprint(ldamallet.show_topics(formatted = False))"
   ]
  },
  {
   "cell_type": "code",
   "execution_count": 41,
   "metadata": {},
   "outputs": [
    {
     "name": "stdout",
     "output_type": "stream",
     "text": [
      "\n",
      "Coherence Score:  0.5721317503684722\n"
     ]
    }
   ],
   "source": [
    "#Compute Coherence Score\n",
    "coherence_model_ldamallet = CoherenceModel(model = ldamallet, texts = data_lemmatized, dictionary = id2word, coherence = 'c_v')\n",
    "coherence_ldamallet = coherence_model_ldamallet.get_coherence()\n",
    "print('\\nCoherence Score: ', coherence_ldamallet)"
   ]
  },
  {
   "cell_type": "markdown",
   "metadata": {},
   "source": [
    "## Finding the optimal number of topics for LDA"
   ]
  },
  {
   "cell_type": "code",
   "execution_count": 42,
   "metadata": {},
   "outputs": [],
   "source": [
    "def compute_coherence_values(dictionary, corpus, texts, limit, start=2, step=3):\n",
    "    \"\"\"\n",
    "    Compute c_v coherence for various number of topics\n",
    "\n",
    "    Parameters:\n",
    "    ----------\n",
    "    dictionary : Gensim dictionary\n",
    "    corpus : Gensim corpus\n",
    "    texts : List of input texts\n",
    "    limit : Max num of topics\n",
    "\n",
    "    Returns:\n",
    "    -------\n",
    "    model_list : List of LDA topic models\n",
    "    coherence_values : Coherence values corresponding to the LDA model with respective number of topics\n",
    "    \"\"\"\n",
    "    coherence_values = []\n",
    "    model_list = []\n",
    "    for num_topics in range(start, limit, step):\n",
    "        model = gensim.models.wrappers.LdaMallet(mallet_path, corpus=corpus, num_topics=num_topics, id2word=id2word)\n",
    "        model_list.append(model)\n",
    "        coherencemodel = CoherenceModel(model=model, texts=texts, dictionary=dictionary, coherence='c_v')\n",
    "        coherence_values.append(coherencemodel.get_coherence())\n",
    "\n",
    "    return model_list, coherence_values"
   ]
  },
  {
   "cell_type": "code",
   "execution_count": 43,
   "metadata": {},
   "outputs": [],
   "source": [
    "model_list, coherence_values = compute_coherence_values(dictionary=id2word, corpus=corpus, texts=data_lemmatized, start=2, limit=40, step=6)"
   ]
  },
  {
   "cell_type": "code",
   "execution_count": 44,
   "metadata": {},
   "outputs": [
    {
     "data": {
      "image/png": "[encoded data removed]",
      "text/plain": [
       "<Figure size 432x288 with 1 Axes>"
      ]
     },
     "metadata": {
      "needs_background": "light"
     },
     "output_type": "display_data"
    }
   ],
   "source": [
    "# Show graph\n",
    "limit=40; start=2; step=6;\n",
    "x = range(start, limit, step)\n",
    "plt.plot(x, coherence_values)\n",
    "plt.xlabel(\"Num Topics\")\n",
    "plt.ylabel(\"Coherence score\")\n",
    "plt.legend((\"coherence_values\"), loc='best')\n",
    "plt.show()"
   ]
  },
  {
   "cell_type": "code",
   "execution_count": 45,
   "metadata": {},
   "outputs": [
    {
     "name": "stdout",
     "output_type": "stream",
     "text": [
      "Num Topics = 2  has Coherence Value of 0.4736\n",
      "Num Topics = 8  has Coherence Value of 0.489\n",
      "Num Topics = 14  has Coherence Value of 0.5668\n",
      "Num Topics = 20  has Coherence Value of 0.5767\n",
      "Num Topics = 26  has Coherence Value of 0.5785\n",
      "Num Topics = 32  has Coherence Value of 0.5667\n",
      "Num Topics = 38  has Coherence Value of 0.5757\n"
     ]
    }
   ],
   "source": [
    "# Print the coherence scores\n",
    "for m, cv in zip(x, coherence_values):\n",
    "    print(\"Num Topics =\", m, \" has Coherence Value of\", round(cv, 4))"
   ]
  },
  {
   "cell_type": "code",
   "execution_count": 46,
   "metadata": {},
   "outputs": [
    {
     "name": "stdout",
     "output_type": "stream",
     "text": [
      "[(0,\n",
      "  '0.018*\"question\" + 0.016*\"exist\" + 0.013*\"argument\" + 0.013*\"claim\" + '\n",
      "  '0.013*\"reason\" + 0.012*\"evidence\" + 0.011*\"true\" + 0.009*\"make\" + '\n",
      "  '0.008*\"science\" + 0.008*\"human\"'),\n",
      " (1,\n",
      "  '0.971*\"ax\" + 0.001*\"tq\" + 0.001*\"tg\" + 0.000*\"wwiz\" + 0.000*\"ei_ei\" + '\n",
      "  '0.000*\"tm\" + 0.000*\"mb\" + 0.000*\"eqtm\" + 0.000*\"part\" + 0.000*\"wm_wm\"'),\n",
      " (2,\n",
      "  '0.055*\"write\" + 0.036*\"people\" + 0.034*\"good\" + 0.032*\"article\" + '\n",
      "  '0.024*\"opinion\" + 0.020*\"make\" + 0.020*\"post\" + 0.019*\"read\" + '\n",
      "  '0.013*\"sound\" + 0.012*\"great\"'),\n",
      " (3,\n",
      "  '0.026*\"gun\" + 0.024*\"law\" + 0.020*\"state\" + 0.014*\"people\" + 0.013*\"case\" + '\n",
      "  '0.011*\"crime\" + 0.010*\"government\" + 0.009*\"weapon\" + 0.008*\"police\" + '\n",
      "  '0.007*\"criminal\"'),\n",
      " (4,\n",
      "  '0.023*\"space\" + 0.010*\"system\" + 0.008*\"launch\" + 0.008*\"high\" + '\n",
      "  '0.007*\"project\" + 0.007*\"power\" + 0.007*\"design\" + 0.006*\"earth\" + '\n",
      "  '0.006*\"mission\" + 0.006*\"time\"'),\n",
      " (5,\n",
      "  '0.032*\"game\" + 0.030*\"year\" + 0.029*\"team\" + 0.025*\"play\" + 0.020*\"player\" '\n",
      "  '+ 0.017*\"good\" + 0.013*\"win\" + 0.013*\"season\" + 0.010*\"hit\" + '\n",
      "  '0.010*\"score\"'),\n",
      " (6,\n",
      "  '0.039*\"car\" + 0.012*\"bike\" + 0.012*\"buy\" + 0.010*\"ride\" + 0.010*\"line\" + '\n",
      "  '0.009*\"good\" + 0.009*\"engine\" + 0.008*\"light\" + 0.007*\"turn\" + '\n",
      "  '0.007*\"side\"'),\n",
      " (7,\n",
      "  '0.044*\"file\" + 0.027*\"line\" + 0.019*\"number\" + 0.019*\"read\" + '\n",
      "  '0.016*\"follow\" + 0.015*\"program\" + 0.013*\"copy\" + 0.012*\"write\" + '\n",
      "  '0.011*\"info\" + 0.011*\"entry\"'),\n",
      " (8,\n",
      "  '0.063*\"problem\" + 0.046*\"line\" + 0.035*\"window\" + 0.028*\"work\" + '\n",
      "  '0.026*\"run\" + 0.022*\"card\" + 0.022*\"driver\" + 0.015*\"monitor\" + '\n",
      "  '0.011*\"color\" + 0.011*\"system\"'),\n",
      " (9,\n",
      "  '0.013*\"word\" + 0.013*\"religion\" + 0.013*\"christian\" + 0.012*\"people\" + '\n",
      "  '0.011*\"book\" + 0.010*\"church\" + 0.009*\"man\" + 0.009*\"love\" + 0.008*\"faith\" '\n",
      "  '+ 0.007*\"time\"'),\n",
      " (10,\n",
      "  '0.013*\"study\" + 0.009*\"find\" + 0.009*\"food\" + 0.008*\"effect\" + '\n",
      "  '0.008*\"problem\" + 0.008*\"doctor\" + 0.007*\"patient\" + 0.007*\"eat\" + '\n",
      "  '0.007*\"year\" + 0.007*\"research\"'),\n",
      " (11,\n",
      "  '0.040*\"drive\" + 0.019*\"price\" + 0.018*\"system\" + 0.017*\"sale\" + '\n",
      "  '0.016*\"disk\" + 0.013*\"speed\" + 0.012*\"sell\" + 0.012*\"scsi\" + 0.012*\"buy\" + '\n",
      "  '0.011*\"bit\"'),\n",
      " (12,\n",
      "  '0.018*\"image\" + 0.014*\"program\" + 0.013*\"file\" + 0.012*\"version\" + '\n",
      "  '0.012*\"application\" + 0.011*\"include\" + 0.011*\"display\" + 0.011*\"software\" '\n",
      "  '+ 0.010*\"server\" + 0.009*\"package\"'),\n",
      " (13,\n",
      "  '0.019*\"make\" + 0.018*\"year\" + 0.016*\"work\" + 0.016*\"money\" + 0.013*\"pay\" + '\n",
      "  '0.012*\"job\" + 0.011*\"people\" + 0.010*\"government\" + 0.008*\"cost\" + '\n",
      "  '0.008*\"support\"'),\n",
      " (14,\n",
      "  '0.195*\"line\" + 0.157*\"write\" + 0.108*\"article\" + 0.096*\"host\" + '\n",
      "  '0.094*\"nntp_poste\" + 0.069*\"organization\" + 0.032*\"reply\" + '\n",
      "  '0.014*\"distribution_usa\" + 0.009*\"net\" + 0.008*\"ca\"'),\n",
      " (15,\n",
      "  '0.042*\"key\" + 0.014*\"bit\" + 0.014*\"chip\" + 0.013*\"phone\" + '\n",
      "  '0.011*\"encryption\" + 0.010*\"system\" + 0.010*\"line\" + 0.009*\"message\" + '\n",
      "  '0.009*\"part\" + 0.008*\"wire\"'),\n",
      " (16,\n",
      "  '0.046*\"thing\" + 0.042*\"make\" + 0.024*\"time\" + 0.022*\"write\" + 0.020*\"good\" '\n",
      "  '+ 0.019*\"hear\" + 0.018*\"bad\" + 0.017*\"give\" + 0.017*\"start\" + '\n",
      "  '0.016*\"happen\"'),\n",
      " (17,\n",
      "  '0.016*\"people\" + 0.010*\"israeli\" + 0.009*\"war\" + 0.009*\"armenian\" + '\n",
      "  '0.009*\"kill\" + 0.009*\"attack\" + 0.009*\"turkish\" + 0.008*\"government\" + '\n",
      "  '0.008*\"land\" + 0.007*\"give\"'),\n",
      " (18,\n",
      "  '0.018*\"people\" + 0.016*\"leave\" + 0.014*\"time\" + 0.014*\"day\" + 0.011*\"woman\" '\n",
      "  '+ 0.010*\"happen\" + 0.010*\"face\" + 0.010*\"child\" + 0.010*\"call\" + '\n",
      "  '0.009*\"start\"'),\n",
      " (19,\n",
      "  '0.025*\"mail\" + 0.024*\"information\" + 0.019*\"post\" + 0.018*\"send\" + '\n",
      "  '0.014*\"address\" + 0.014*\"internet\" + 0.014*\"group\" + 0.013*\"list\" + '\n",
      "  '0.013*\"technology\" + 0.011*\"message\"')]\n"
     ]
    }
   ],
   "source": [
    "# Select the model and print the topics\n",
    "optimal_model = model_list[3]\n",
    "model_topics = optimal_model.show_topics(formatted=False)\n",
    "pprint(optimal_model.print_topics(num_words=10))"
   ]
  },
  {
   "cell_type": "markdown",
   "metadata": {},
   "source": [
    "## Finding the dominant topic in each sentence"
   ]
  },
  {
   "cell_type": "code",
   "execution_count": 47,
   "metadata": {},
   "outputs": [
    {
     "data": {
      "text/html": [
       "<div>\n",
       "<style scoped>\n",
       "    .dataframe tbody tr th:only-of-type {\n",
       "        vertical-align: middle;\n",
       "    }\n",
       "\n",
       "    .dataframe tbody tr th {\n",
       "        vertical-align: top;\n",
       "    }\n",
       "\n",
       "    .dataframe thead th {\n",
       "        text-align: right;\n",
       "    }\n",
       "</style>\n",
       "<table border=\"1\" class=\"dataframe\">\n",
       "  <thead>\n",
       "    <tr style=\"text-align: right;\">\n",
       "      <th></th>\n",
       "      <th>Document_No</th>\n",
       "      <th>Dominant_Topic</th>\n",
       "      <th>Topic_Perc_Contrib</th>\n",
       "      <th>Keywords</th>\n",
       "      <th>Text</th>\n",
       "    </tr>\n",
       "  </thead>\n",
       "  <tbody>\n",
       "    <tr>\n",
       "      <td>0</td>\n",
       "      <td>0</td>\n",
       "      <td>6.0</td>\n",
       "      <td>0.1492</td>\n",
       "      <td>car, bike, buy, ride, line, good, engine, ligh...</td>\n",
       "      <td>From: (wheres my thing) Subject: WHAT car is t...</td>\n",
       "    </tr>\n",
       "    <tr>\n",
       "      <td>1</td>\n",
       "      <td>1</td>\n",
       "      <td>11.0</td>\n",
       "      <td>0.1843</td>\n",
       "      <td>drive, price, system, sale, disk, speed, sell,...</td>\n",
       "      <td>From: (Guy Kuo) Subject: SI Clock Poll - Final...</td>\n",
       "    </tr>\n",
       "    <tr>\n",
       "      <td>2</td>\n",
       "      <td>2</td>\n",
       "      <td>16.0</td>\n",
       "      <td>0.1289</td>\n",
       "      <td>thing, make, time, write, good, hear, bad, giv...</td>\n",
       "      <td>From: (Thomas E Willis) Subject: PB questions....</td>\n",
       "    </tr>\n",
       "    <tr>\n",
       "      <td>3</td>\n",
       "      <td>3</td>\n",
       "      <td>14.0</td>\n",
       "      <td>0.1104</td>\n",
       "      <td>line, write, article, host, nntp_poste, organi...</td>\n",
       "      <td>From: (Joe Green) Subject: Re: Weitek P9000 ? ...</td>\n",
       "    </tr>\n",
       "    <tr>\n",
       "      <td>4</td>\n",
       "      <td>4</td>\n",
       "      <td>8.0</td>\n",
       "      <td>0.1460</td>\n",
       "      <td>problem, line, window, work, run, card, driver...</td>\n",
       "      <td>From: (Jonathan McDowell) Subject: Re: Shuttle...</td>\n",
       "    </tr>\n",
       "    <tr>\n",
       "      <td>5</td>\n",
       "      <td>5</td>\n",
       "      <td>3.0</td>\n",
       "      <td>0.3773</td>\n",
       "      <td>gun, law, state, people, case, crime, governme...</td>\n",
       "      <td>From: (Foxvog Douglas) Subject: Re: Rewording ...</td>\n",
       "    </tr>\n",
       "    <tr>\n",
       "      <td>6</td>\n",
       "      <td>6</td>\n",
       "      <td>7.0</td>\n",
       "      <td>0.1166</td>\n",
       "      <td>file, line, number, read, follow, program, cop...</td>\n",
       "      <td>From: (brian manning delaney) Subject: Brain T...</td>\n",
       "    </tr>\n",
       "    <tr>\n",
       "      <td>7</td>\n",
       "      <td>7</td>\n",
       "      <td>11.0</td>\n",
       "      <td>0.4535</td>\n",
       "      <td>drive, price, system, sale, disk, speed, sell,...</td>\n",
       "      <td>From: (GRUBB) Subject: Re: IDE vs SCSI Organiz...</td>\n",
       "    </tr>\n",
       "    <tr>\n",
       "      <td>8</td>\n",
       "      <td>8</td>\n",
       "      <td>8.0</td>\n",
       "      <td>0.1046</td>\n",
       "      <td>problem, line, window, work, run, card, driver...</td>\n",
       "      <td>From: Subject: WIn 3.0 ICON HELP PLEASE! Organ...</td>\n",
       "    </tr>\n",
       "    <tr>\n",
       "      <td>9</td>\n",
       "      <td>9</td>\n",
       "      <td>8.0</td>\n",
       "      <td>0.1480</td>\n",
       "      <td>problem, line, window, work, run, card, driver...</td>\n",
       "      <td>From: (Stan Kerr) Subject: Re: Sigma Designs D...</td>\n",
       "    </tr>\n",
       "  </tbody>\n",
       "</table>\n",
       "</div>"
      ],
      "text/plain": [
       "   Document_No  Dominant_Topic  Topic_Perc_Contrib  \\\n",
       "0            0             6.0              0.1492   \n",
       "1            1            11.0              0.1843   \n",
       "2            2            16.0              0.1289   \n",
       "3            3            14.0              0.1104   \n",
       "4            4             8.0              0.1460   \n",
       "5            5             3.0              0.3773   \n",
       "6            6             7.0              0.1166   \n",
       "7            7            11.0              0.4535   \n",
       "8            8             8.0              0.1046   \n",
       "9            9             8.0              0.1480   \n",
       "\n",
       "                                            Keywords  \\\n",
       "0  car, bike, buy, ride, line, good, engine, ligh...   \n",
       "1  drive, price, system, sale, disk, speed, sell,...   \n",
       "2  thing, make, time, write, good, hear, bad, giv...   \n",
       "3  line, write, article, host, nntp_poste, organi...   \n",
       "4  problem, line, window, work, run, card, driver...   \n",
       "5  gun, law, state, people, case, crime, governme...   \n",
       "6  file, line, number, read, follow, program, cop...   \n",
       "7  drive, price, system, sale, disk, speed, sell,...   \n",
       "8  problem, line, window, work, run, card, driver...   \n",
       "9  problem, line, window, work, run, card, driver...   \n",
       "\n",
       "                                                Text  \n",
       "0  From: (wheres my thing) Subject: WHAT car is t...  \n",
       "1  From: (Guy Kuo) Subject: SI Clock Poll - Final...  \n",
       "2  From: (Thomas E Willis) Subject: PB questions....  \n",
       "3  From: (Joe Green) Subject: Re: Weitek P9000 ? ...  \n",
       "4  From: (Jonathan McDowell) Subject: Re: Shuttle...  \n",
       "5  From: (Foxvog Douglas) Subject: Re: Rewording ...  \n",
       "6  From: (brian manning delaney) Subject: Brain T...  \n",
       "7  From: (GRUBB) Subject: Re: IDE vs SCSI Organiz...  \n",
       "8  From: Subject: WIn 3.0 ICON HELP PLEASE! Organ...  \n",
       "9  From: (Stan Kerr) Subject: Re: Sigma Designs D...  "
      ]
     },
     "execution_count": 47,
     "metadata": {},
     "output_type": "execute_result"
    }
   ],
   "source": [
    "def format_topics_sentences(ldamodel=lda_model, corpus=corpus, texts=data):\n",
    "    # Init output\n",
    "    sent_topics_df = pd.DataFrame()\n",
    "\n",
    "    # Get main topic in each document\n",
    "    for i, row in enumerate(ldamodel[corpus]):\n",
    "        row = sorted(row, key=lambda x: (x[1]), reverse=True)\n",
    "        # Get the Dominant topic, Perc Contribution and Keywords for each document\n",
    "        for j, (topic_num, prop_topic) in enumerate(row):\n",
    "            if j == 0:  # => dominant topic\n",
    "                wp = ldamodel.show_topic(topic_num)\n",
    "                topic_keywords = \", \".join([word for word, prop in wp])\n",
    "                sent_topics_df = sent_topics_df.append(pd.Series([int(topic_num), round(prop_topic,4), topic_keywords]), ignore_index=True)\n",
    "            else:\n",
    "                break\n",
    "    sent_topics_df.columns = ['Dominant_Topic', 'Perc_Contribution', 'Topic_Keywords']\n",
    "\n",
    "    # Add original text to the end of the output\n",
    "    contents = pd.Series(texts)\n",
    "    sent_topics_df = pd.concat([sent_topics_df, contents], axis=1)\n",
    "    return(sent_topics_df)\n",
    "\n",
    "\n",
    "df_topic_sents_keywords = format_topics_sentences(ldamodel=optimal_model, corpus=corpus, texts=data)\n",
    "\n",
    "# Format\n",
    "df_dominant_topic = df_topic_sents_keywords.reset_index()\n",
    "df_dominant_topic.columns = ['Document_No', 'Dominant_Topic', 'Topic_Perc_Contrib', 'Keywords', 'Text']\n",
    "\n",
    "# Show\n",
    "df_dominant_topic.head(10)"
   ]
  },
  {
   "cell_type": "markdown",
   "metadata": {},
   "source": [
    "## Finding the most representative document for each topic"
   ]
  },
  {
   "cell_type": "code",
   "execution_count": 48,
   "metadata": {},
   "outputs": [
    {
     "data": {
      "text/html": [
       "<div>\n",
       "<style scoped>\n",
       "    .dataframe tbody tr th:only-of-type {\n",
       "        vertical-align: middle;\n",
       "    }\n",
       "\n",
       "    .dataframe tbody tr th {\n",
       "        vertical-align: top;\n",
       "    }\n",
       "\n",
       "    .dataframe thead th {\n",
       "        text-align: right;\n",
       "    }\n",
       "</style>\n",
       "<table border=\"1\" class=\"dataframe\">\n",
       "  <thead>\n",
       "    <tr style=\"text-align: right;\">\n",
       "      <th></th>\n",
       "      <th>Topic_Num</th>\n",
       "      <th>Topic_Perc_Contrib</th>\n",
       "      <th>Keywords</th>\n",
       "      <th>Text</th>\n",
       "    </tr>\n",
       "  </thead>\n",
       "  <tbody>\n",
       "    <tr>\n",
       "      <td>0</td>\n",
       "      <td>0.0</td>\n",
       "      <td>0.6656</td>\n",
       "      <td>question, exist, argument, claim, reason, evid...</td>\n",
       "      <td>From: (Petri Pihko) Subject: Re: Atheists view...</td>\n",
       "    </tr>\n",
       "    <tr>\n",
       "      <td>1</td>\n",
       "      <td>1.0</td>\n",
       "      <td>0.9949</td>\n",
       "      <td>ax, tq, tg, wwiz, ei_ei, tm, mb, eqtm, part, w...</td>\n",
       "      <td>Subject: roman.bmp 12/14 From: (Cliff) Reply-T...</td>\n",
       "    </tr>\n",
       "    <tr>\n",
       "      <td>2</td>\n",
       "      <td>2.0</td>\n",
       "      <td>0.3719</td>\n",
       "      <td>write, people, good, article, opinion, make, p...</td>\n",
       "      <td>From: (Ryan C Scharfy) Subject: Re: New Study ...</td>\n",
       "    </tr>\n",
       "    <tr>\n",
       "      <td>3</td>\n",
       "      <td>3.0</td>\n",
       "      <td>0.6173</td>\n",
       "      <td>gun, law, state, people, case, crime, governme...</td>\n",
       "      <td>From: (Larry Cipriani) Subject: Ohio House Bil...</td>\n",
       "    </tr>\n",
       "    <tr>\n",
       "      <td>4</td>\n",
       "      <td>4.0</td>\n",
       "      <td>0.7494</td>\n",
       "      <td>space, system, launch, high, project, power, d...</td>\n",
       "      <td>From: (Jon Leech) Subject: Space FAQ 11/15 - U...</td>\n",
       "    </tr>\n",
       "  </tbody>\n",
       "</table>\n",
       "</div>"
      ],
      "text/plain": [
       "   Topic_Num  Topic_Perc_Contrib  \\\n",
       "0        0.0              0.6656   \n",
       "1        1.0              0.9949   \n",
       "2        2.0              0.3719   \n",
       "3        3.0              0.6173   \n",
       "4        4.0              0.7494   \n",
       "\n",
       "                                            Keywords  \\\n",
       "0  question, exist, argument, claim, reason, evid...   \n",
       "1  ax, tq, tg, wwiz, ei_ei, tm, mb, eqtm, part, w...   \n",
       "2  write, people, good, article, opinion, make, p...   \n",
       "3  gun, law, state, people, case, crime, governme...   \n",
       "4  space, system, launch, high, project, power, d...   \n",
       "\n",
       "                                                Text  \n",
       "0  From: (Petri Pihko) Subject: Re: Atheists view...  \n",
       "1  Subject: roman.bmp 12/14 From: (Cliff) Reply-T...  \n",
       "2  From: (Ryan C Scharfy) Subject: Re: New Study ...  \n",
       "3  From: (Larry Cipriani) Subject: Ohio House Bil...  \n",
       "4  From: (Jon Leech) Subject: Space FAQ 11/15 - U...  "
      ]
     },
     "execution_count": 48,
     "metadata": {},
     "output_type": "execute_result"
    }
   ],
   "source": [
    "# Group top 5 sentences under each topic\n",
    "sent_topics_sorteddf_mallet = pd.DataFrame()\n",
    "\n",
    "sent_topics_outdf_grpd = df_topic_sents_keywords.groupby('Dominant_Topic')\n",
    "\n",
    "for i, grp in sent_topics_outdf_grpd:\n",
    "    sent_topics_sorteddf_mallet = pd.concat([sent_topics_sorteddf_mallet, \n",
    "                                             grp.sort_values(['Perc_Contribution'], ascending=[0]).head(1)], \n",
    "                                            axis=0)\n",
    "\n",
    "# Reset Index    \n",
    "sent_topics_sorteddf_mallet.reset_index(drop=True, inplace=True)\n",
    "\n",
    "# Format\n",
    "sent_topics_sorteddf_mallet.columns = ['Topic_Num', \"Topic_Perc_Contrib\", \"Keywords\", \"Text\"]\n",
    "\n",
    "# Show\n",
    "sent_topics_sorteddf_mallet.head()"
   ]
  },
  {
   "cell_type": "markdown",
   "metadata": {},
   "source": [
    "## Topic distribution across documents"
   ]
  },
  {
   "cell_type": "code",
   "execution_count": 49,
   "metadata": {},
   "outputs": [
    {
     "data": {
      "text/html": [
       "<div>\n",
       "<style scoped>\n",
       "    .dataframe tbody tr th:only-of-type {\n",
       "        vertical-align: middle;\n",
       "    }\n",
       "\n",
       "    .dataframe tbody tr th {\n",
       "        vertical-align: top;\n",
       "    }\n",
       "\n",
       "    .dataframe thead th {\n",
       "        text-align: right;\n",
       "    }\n",
       "</style>\n",
       "<table border=\"1\" class=\"dataframe\">\n",
       "  <thead>\n",
       "    <tr style=\"text-align: right;\">\n",
       "      <th></th>\n",
       "      <th>Dominant_Topic</th>\n",
       "      <th>Topic_Keywords</th>\n",
       "      <th>Num_Documents</th>\n",
       "      <th>Perc_Documents</th>\n",
       "    </tr>\n",
       "  </thead>\n",
       "  <tbody>\n",
       "    <tr>\n",
       "      <td>0.0</td>\n",
       "      <td>6.0</td>\n",
       "      <td>car, bike, buy, ride, line, good, engine, ligh...</td>\n",
       "      <td>525.0</td>\n",
       "      <td>0.0464</td>\n",
       "    </tr>\n",
       "    <tr>\n",
       "      <td>1.0</td>\n",
       "      <td>11.0</td>\n",
       "      <td>drive, price, system, sale, disk, speed, sell,...</td>\n",
       "      <td>10.0</td>\n",
       "      <td>0.0009</td>\n",
       "    </tr>\n",
       "    <tr>\n",
       "      <td>2.0</td>\n",
       "      <td>16.0</td>\n",
       "      <td>thing, make, time, write, good, hear, bad, giv...</td>\n",
       "      <td>379.0</td>\n",
       "      <td>0.0335</td>\n",
       "    </tr>\n",
       "    <tr>\n",
       "      <td>3.0</td>\n",
       "      <td>14.0</td>\n",
       "      <td>line, write, article, host, nntp_poste, organi...</td>\n",
       "      <td>556.0</td>\n",
       "      <td>0.0491</td>\n",
       "    </tr>\n",
       "    <tr>\n",
       "      <td>4.0</td>\n",
       "      <td>8.0</td>\n",
       "      <td>problem, line, window, work, run, card, driver...</td>\n",
       "      <td>566.0</td>\n",
       "      <td>0.0500</td>\n",
       "    </tr>\n",
       "    <tr>\n",
       "      <td>...</td>\n",
       "      <td>...</td>\n",
       "      <td>...</td>\n",
       "      <td>...</td>\n",
       "      <td>...</td>\n",
       "    </tr>\n",
       "    <tr>\n",
       "      <td>11309.0</td>\n",
       "      <td>10.0</td>\n",
       "      <td>study, find, food, effect, problem, doctor, pa...</td>\n",
       "      <td>NaN</td>\n",
       "      <td>NaN</td>\n",
       "    </tr>\n",
       "    <tr>\n",
       "      <td>11310.0</td>\n",
       "      <td>11.0</td>\n",
       "      <td>drive, price, system, sale, disk, speed, sell,...</td>\n",
       "      <td>NaN</td>\n",
       "      <td>NaN</td>\n",
       "    </tr>\n",
       "    <tr>\n",
       "      <td>11311.0</td>\n",
       "      <td>6.0</td>\n",
       "      <td>car, bike, buy, ride, line, good, engine, ligh...</td>\n",
       "      <td>NaN</td>\n",
       "      <td>NaN</td>\n",
       "    </tr>\n",
       "    <tr>\n",
       "      <td>11312.0</td>\n",
       "      <td>7.0</td>\n",
       "      <td>file, line, number, read, follow, program, cop...</td>\n",
       "      <td>NaN</td>\n",
       "      <td>NaN</td>\n",
       "    </tr>\n",
       "    <tr>\n",
       "      <td>11313.0</td>\n",
       "      <td>6.0</td>\n",
       "      <td>car, bike, buy, ride, line, good, engine, ligh...</td>\n",
       "      <td>NaN</td>\n",
       "      <td>NaN</td>\n",
       "    </tr>\n",
       "  </tbody>\n",
       "</table>\n",
       "<p>11314 rows × 4 columns</p>\n",
       "</div>"
      ],
      "text/plain": [
       "         Dominant_Topic                                     Topic_Keywords  \\\n",
       "0.0                 6.0  car, bike, buy, ride, line, good, engine, ligh...   \n",
       "1.0                11.0  drive, price, system, sale, disk, speed, sell,...   \n",
       "2.0                16.0  thing, make, time, write, good, hear, bad, giv...   \n",
       "3.0                14.0  line, write, article, host, nntp_poste, organi...   \n",
       "4.0                 8.0  problem, line, window, work, run, card, driver...   \n",
       "...                 ...                                                ...   \n",
       "11309.0            10.0  study, find, food, effect, problem, doctor, pa...   \n",
       "11310.0            11.0  drive, price, system, sale, disk, speed, sell,...   \n",
       "11311.0             6.0  car, bike, buy, ride, line, good, engine, ligh...   \n",
       "11312.0             7.0  file, line, number, read, follow, program, cop...   \n",
       "11313.0             6.0  car, bike, buy, ride, line, good, engine, ligh...   \n",
       "\n",
       "         Num_Documents  Perc_Documents  \n",
       "0.0              525.0          0.0464  \n",
       "1.0               10.0          0.0009  \n",
       "2.0              379.0          0.0335  \n",
       "3.0              556.0          0.0491  \n",
       "4.0              566.0          0.0500  \n",
       "...                ...             ...  \n",
       "11309.0            NaN             NaN  \n",
       "11310.0            NaN             NaN  \n",
       "11311.0            NaN             NaN  \n",
       "11312.0            NaN             NaN  \n",
       "11313.0            NaN             NaN  \n",
       "\n",
       "[11314 rows x 4 columns]"
      ]
     },
     "execution_count": 49,
     "metadata": {},
     "output_type": "execute_result"
    }
   ],
   "source": [
    "# Number of Documents for Each Topic\n",
    "topic_counts = df_topic_sents_keywords['Dominant_Topic'].value_counts()\n",
    "\n",
    "# Percentage of Documents for Each Topic\n",
    "topic_contribution = round(topic_counts/topic_counts.sum(), 4)\n",
    "\n",
    "# Topic Number and Keywords\n",
    "topic_num_keywords = df_topic_sents_keywords[['Dominant_Topic', 'Topic_Keywords']]\n",
    "\n",
    "# Concatenate Column wise\n",
    "df_dominant_topics = pd.concat([topic_num_keywords, topic_counts, topic_contribution], axis=1)\n",
    "\n",
    "# Change Column names\n",
    "df_dominant_topics.columns = ['Dominant_Topic', 'Topic_Keywords', 'Num_Documents', 'Perc_Documents']\n",
    "\n",
    "# Show\n",
    "df_dominant_topics"
   ]
  },
  {
   "cell_type": "code",
   "execution_count": null,
   "metadata": {},
   "outputs": [],
   "source": []
  }
 ],
 "metadata": {
  "kernelspec": {
   "display_name": "Python 3",
   "language": "python",
   "name": "python3"
  },
  "language_info": {
   "codemirror_mode": {
    "name": "ipython",
    "version": 3
   },
   "file_extension": ".py",
   "mimetype": "text/x-python",
   "name": "python",
   "nbconvert_exporter": "python",
   "pygments_lexer": "ipython3",
   "version": "3.7.4"
  }
 },
 "nbformat": 4,
 "nbformat_minor": 2
}
